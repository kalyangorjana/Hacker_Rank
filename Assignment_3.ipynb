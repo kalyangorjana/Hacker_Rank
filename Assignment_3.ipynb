{
  "nbformat": 4,
  "nbformat_minor": 0,
  "metadata": {
    "colab": {
      "provenance": [],
      "authorship_tag": "ABX9TyOJe1qdbyfAW/ZnswIrJh2A",
      "include_colab_link": true
    },
    "kernelspec": {
      "name": "python3",
      "display_name": "Python 3"
    },
    "language_info": {
      "name": "python"
    }
  },
  "cells": [
    {
      "cell_type": "markdown",
      "metadata": {
        "id": "view-in-github",
        "colab_type": "text"
      },
      "source": [
        "<a href=\"https://colab.research.google.com/github/kalyangorjana/Hacker_Rank/blob/main/Assignment_3.ipynb\" target=\"_parent\"><img src=\"https://colab.research.google.com/assets/colab-badge.svg\" alt=\"Open In Colab\"/></a>"
      ]
    },
    {
      "cell_type": "markdown",
      "source": [
        "1.What is the concept of an abstract superclass?"
      ],
      "metadata": {
        "id": "pZFuiuuekmja"
      }
    },
    {
      "cell_type": "markdown",
      "source": [
        "An abstract superclass is a parent class that is used to provide a common interface and functionality to its subclasses. It abstracts away the details of the implementation, allowing its subclasses to extend the functionality by overriding methods or providing additional methods"
      ],
      "metadata": {
        "id": "JNk_ovvwZBDU"
      }
    },
    {
      "cell_type": "markdown",
      "source": [
        "2.What happens when a class statement&#39;s top level contains a basic assignment statement?"
      ],
      "metadata": {
        "id": "zdyIdLENkzt-"
      }
    },
    {
      "cell_type": "markdown",
      "source": [
        "When a class statement's top level contains a basic assignment statement, the assignment statement will be ignored by Python and treated as a comment. This is because the top level of a class statement must be a valid class definition, which does not include assignment statements."
      ],
      "metadata": {
        "id": "kpx0esPZZWPm"
      }
    },
    {
      "cell_type": "markdown",
      "source": [
        "3.Why does a class need to manually call a superclass&#39;s __init__ method?"
      ],
      "metadata": {
        "id": "YSs3m18akyN6"
      }
    },
    {
      "cell_type": "markdown",
      "source": [
        "A class needs to manually call a superclass's init method in order to ensure that all of the necessary initialization code for the superclass is executed. Without calling the init method, the superclass's initialization code will not be executed, and the class may not function properly."
      ],
      "metadata": {
        "id": "rEg82NdpZjOD"
      }
    },
    {
      "cell_type": "markdown",
      "source": [
        "4.How can you augment, instead of completely replacing, an inherited method?"
      ],
      "metadata": {
        "id": "y2W3TZ8VkwmV"
      }
    },
    {
      "cell_type": "markdown",
      "source": [
        "One way to augment an inherited method is to override the method and call the superclass version from within the overriding method. This allows the overriding method to execute additional code before or after the inherited method is executed. This allows you to keep the logic of the original method intact but add extra logic to it."
      ],
      "metadata": {
        "id": "i9cRh2_KZ1nJ"
      }
    },
    {
      "cell_type": "markdown",
      "source": [
        "5.How is the local scope of a class different from that of a function?"
      ],
      "metadata": {
        "id": "cPzfdxmEktfE"
      }
    },
    {
      "cell_type": "markdown",
      "source": [
        "The local scope of a class is the area of a program where the class is defined and declared. It includes the code within the class definition, any variables declared within the class, and any methods associated with the class. The local scope of a function is the area of a program where the function is defined and declared. It includes the code within the function definition, any variables declared within the function, and any parameters associated with the function. Generally speaking, the local scope of a class is more expansive than the local scope of a function."
      ],
      "metadata": {
        "id": "gje40eXVZ581"
      }
    }
  ]
}